{
 "cells": [
  {
   "cell_type": "markdown",
   "metadata": {},
   "source": [
    "## Part 2: Supervised Learning Model\n",
    "\n",
    "Now that you've found which parts of the population are more likely to be customers of the mail-order company, it's time to build a prediction model. Each of the rows in the \"MAILOUT\" data files represents an individual that was targeted for a mailout campaign. Ideally, we should be able to use the demographic information from each individual to decide whether or not it will be worth it to include that person in the campaign.\n",
    "\n",
    "The \"MAILOUT\" data has been split into two approximately equal parts, each with almost 43 000 data rows. In this part, you can verify your model with the \"TRAIN\" partition, which includes a column, \"RESPONSE\", that states whether or not a person became a customer of the company following the campaign. In the next part, you'll need to create predictions on the \"TEST\" partition, where the \"RESPONSE\" column has been withheld."
   ]
  },
  {
   "cell_type": "code",
   "execution_count": 90,
   "metadata": {},
   "outputs": [],
   "source": [
    "# import libraries here; add more as necessary\n",
    "import numpy as np\n",
    "import pandas as pd\n",
    "import matplotlib.pyplot as plt\n",
    "import seaborn as sns\n",
    "import pickle\n",
    "\n",
    "import utils as u\n",
    "from time import time\n",
    "\n",
    "# sklearn\n",
    "from sklearn.preprocessing import Imputer\n",
    "from sklearn.preprocessing import StandardScaler\n",
    "\n",
    "from sklearn.pipeline import Pipeline\n",
    "from sklearn.ensemble import RandomForestClassifier\n",
    "from sklearn.ensemble import AdaBoostClassifier\n",
    "from sklearn.tree import DecisionTreeClassifier\n",
    "from sklearn.linear_model import SGDClassifier\n",
    "\n",
    "from sklearn.model_selection import GridSearchCV"
   ]
  },
  {
   "cell_type": "markdown",
   "metadata": {},
   "source": [
    "## Preprocessing train data"
   ]
  },
  {
   "cell_type": "code",
   "execution_count": 2,
   "metadata": {},
   "outputs": [
    {
     "name": "stderr",
     "output_type": "stream",
     "text": [
      "/anaconda3/lib/python3.6/site-packages/IPython/core/interactiveshell.py:2785: DtypeWarning: Columns (19,20) have mixed types. Specify dtype option on import or set low_memory=False.\n",
      "  interactivity=interactivity, compiler=compiler, result=result)\n"
     ]
    }
   ],
   "source": [
    "mailout_train = pd.read_csv('Udacity_MAILOUT_052018_TRAIN.csv', sep=';')\n",
    "mailout_train.drop(columns='Unnamed: 0', inplace=True)\n"
   ]
  },
  {
   "cell_type": "code",
   "execution_count": 3,
   "metadata": {},
   "outputs": [],
   "source": [
    "# Also the attribute file will come in handy for handling missing or unknown values\n",
    "dictionary = pd.read_excel('DIAS Attributes - Values 2017_revised.xlsx', sheet_name='Tabelle1')\n",
    "dictionary.drop(columns='Unnamed: 0', inplace=True)"
   ]
  },
  {
   "cell_type": "code",
   "execution_count": 4,
   "metadata": {},
   "outputs": [
    {
     "name": "stdout",
     "output_type": "stream",
     "text": [
      "ALTER_KIND4       0.999046\n",
      "ALTER_KIND3       0.995950\n",
      "ALTER_KIND2       0.982403\n",
      "ALTER_KIND1       0.953727\n",
      "KK_KUNDENTYP      0.589265\n",
      "EXTSEL992         0.371212\n",
      "HH_DELTA_FLAG     0.225269\n",
      "W_KEIT_KIND_HH    0.225269\n",
      "KBA05_KW2         0.201294\n",
      "MOBI_REGIO        0.201294\n",
      "KBA05_KW3         0.201294\n",
      "KBA05_MAXAH       0.201294\n",
      "KBA05_MAXBJ       0.201294\n",
      "KBA05_MAXHERST    0.201294\n",
      "KBA05_MOTRAD      0.201294\n",
      "KBA05_MAXVORB     0.201294\n",
      "KBA05_MOD1        0.201294\n",
      "KBA05_MOD2        0.201294\n",
      "KBA05_MOD3        0.201294\n",
      "KBA05_MOD4        0.201294\n",
      "KBA05_MOD8        0.201294\n",
      "KBA05_MOTOR       0.201294\n",
      "KBA05_KW1         0.201294\n",
      "KBA05_MAXSEG      0.201294\n",
      "KBA05_ZUL2        0.201294\n",
      "KBA05_SEG1        0.201294\n",
      "KBA05_SEG7        0.201294\n",
      "KBA05_ZUL1        0.201294\n",
      "KBA05_VORB2       0.201294\n",
      "KBA05_VORB1       0.201294\n",
      "dtype: float64\n"
     ]
    }
   ],
   "source": [
    "column_dist = mailout_train.isnull().sum()\n",
    "column_dist.sort_values(ascending=False, inplace=True)\n",
    "outlier_columns = column_dist.index[:8]\n",
    "print(column_dist[:30]/mailout_train.shape[0])"
   ]
  },
  {
   "cell_type": "code",
   "execution_count": 5,
   "metadata": {},
   "outputs": [
    {
     "data": {
      "text/plain": [
       "{'multi': ['LP_FAMILIE_FEIN',\n",
       "  'LP_FAMILIE_GROB',\n",
       "  'LP_STATUS_FEIN',\n",
       "  'LP_STATUS_GROB',\n",
       "  'NATIONALITAET_KZ',\n",
       "  'SHOPPER_TYP',\n",
       "  'TITEL_KZ',\n",
       "  'VERS_TYP',\n",
       "  'CJT_GESAMTTYP',\n",
       "  'CAMEO_DEUG_2015',\n",
       "  'FINANZTYP',\n",
       "  'GEBAEUDETYP',\n",
       "  'GFK_URLAUBERTYP',\n",
       "  'ZABEOTYP'],\n",
       " 'binary': ['OST_WEST_KZ', 'ANREDE_KZ', 'GREEN_AVANTGARDE']}"
      ]
     },
     "execution_count": 5,
     "metadata": {},
     "output_type": "execute_result"
    }
   ],
   "source": [
    "cat_col = u.obtain_categorical_columns(mailout_train)\n",
    "cat_col"
   ]
  },
  {
   "cell_type": "code",
   "execution_count": 6,
   "metadata": {},
   "outputs": [
    {
     "name": "stdout",
     "output_type": "stream",
     "text": [
      "Shape of the attribute file: (2258, 4)\n",
      "Missing values in the array: 11\n",
      "After filling NaNs with False: \n",
      "False    2025\n",
      "True      233\n",
      "Name: Meaning, dtype: int64\n"
     ]
    }
   ],
   "source": [
    "unknown_dict = u.create_unknown_dictionary(dictionary)"
   ]
  },
  {
   "cell_type": "code",
   "execution_count": 7,
   "metadata": {},
   "outputs": [
    {
     "name": "stdout",
     "output_type": "stream",
     "text": [
      "Splitting records with NAs..\n",
      " Total records: 42962\n",
      "Records split by 89 missing values.\n",
      " Shape of resulting dataset: (34991,)\n",
      " Shape of high NAs dataset: (7971,)\n",
      "\n"
     ]
    },
    {
     "name": "stderr",
     "output_type": "stream",
     "text": [
      "/anaconda3/lib/python3.6/site-packages/pandas/core/indexing.py:543: SettingWithCopyWarning: \n",
      "A value is trying to be set on a copy of a slice from a DataFrame.\n",
      "Try using .loc[row_indexer,col_indexer] = value instead\n",
      "\n",
      "See the caveats in the documentation: http://pandas.pydata.org/pandas-docs/stable/indexing.html#indexing-view-versus-copy\n",
      "  self.obj[item] = s\n",
      "/anaconda3/lib/python3.6/site-packages/pandas/core/generic.py:5890: SettingWithCopyWarning: \n",
      "A value is trying to be set on a copy of a slice from a DataFrame\n",
      "\n",
      "See the caveats in the documentation: http://pandas.pydata.org/pandas-docs/stable/indexing.html#indexing-view-versus-copy\n",
      "  self._update_inplace(new_data)\n",
      "/anaconda3/lib/python3.6/site-packages/pandas/core/frame.py:3697: SettingWithCopyWarning: \n",
      "A value is trying to be set on a copy of a slice from a DataFrame\n",
      "\n",
      "See the caveats in the documentation: http://pandas.pydata.org/pandas-docs/stable/indexing.html#indexing-view-versus-copy\n",
      "  errors=errors)\n"
     ]
    }
   ],
   "source": [
    "#Cleaning \n",
    "mailout_train, mailout_high_nas = u.clean_mailout(mailout_train, unknown_dict, outlier_columns, cat_col)"
   ]
  },
  {
   "cell_type": "code",
   "execution_count": 71,
   "metadata": {},
   "outputs": [
    {
     "data": {
      "text/html": [
       "<div>\n",
       "<style scoped>\n",
       "    .dataframe tbody tr th:only-of-type {\n",
       "        vertical-align: middle;\n",
       "    }\n",
       "\n",
       "    .dataframe tbody tr th {\n",
       "        vertical-align: top;\n",
       "    }\n",
       "\n",
       "    .dataframe thead th {\n",
       "        text-align: right;\n",
       "    }\n",
       "</style>\n",
       "<table border=\"1\" class=\"dataframe\">\n",
       "  <thead>\n",
       "    <tr style=\"text-align: right;\">\n",
       "      <th></th>\n",
       "      <th>AGER_TYP</th>\n",
       "      <th>AKT_DAT_KL</th>\n",
       "      <th>ALTER_HH</th>\n",
       "      <th>ALTERSKATEGORIE_FEIN</th>\n",
       "      <th>ANZ_HAUSHALTE_AKTIV</th>\n",
       "      <th>ANZ_HH_TITEL</th>\n",
       "      <th>ANZ_KINDER</th>\n",
       "      <th>ANZ_PERSONEN</th>\n",
       "      <th>ANZ_STATISTISCHE_HAUSHALTE</th>\n",
       "      <th>ANZ_TITEL</th>\n",
       "      <th>...</th>\n",
       "      <th>ZABEOTYP_2</th>\n",
       "      <th>ZABEOTYP_3</th>\n",
       "      <th>ZABEOTYP_4</th>\n",
       "      <th>ZABEOTYP_5</th>\n",
       "      <th>ZABEOTYP_6</th>\n",
       "      <th>PRAEGENDE_JUGENDJAHRE_MOVEMENT</th>\n",
       "      <th>PRAEGENDE_JUGENDJAHRE_DECADE</th>\n",
       "      <th>CAMEO_INTL_2015_WEALTH</th>\n",
       "      <th>CAMEO_INTL_2015_LIFESTAGE</th>\n",
       "      <th>EINGEFUEGT_AM_YEAR</th>\n",
       "    </tr>\n",
       "  </thead>\n",
       "  <tbody>\n",
       "    <tr>\n",
       "      <th>0</th>\n",
       "      <td>2.0</td>\n",
       "      <td>1.0</td>\n",
       "      <td>8.0</td>\n",
       "      <td>8.0</td>\n",
       "      <td>15.0</td>\n",
       "      <td>0.0</td>\n",
       "      <td>0.0</td>\n",
       "      <td>1.0</td>\n",
       "      <td>13.0</td>\n",
       "      <td>0.0</td>\n",
       "      <td>...</td>\n",
       "      <td>0</td>\n",
       "      <td>1</td>\n",
       "      <td>0</td>\n",
       "      <td>0</td>\n",
       "      <td>0</td>\n",
       "      <td>0.0</td>\n",
       "      <td>40.0</td>\n",
       "      <td>3.0</td>\n",
       "      <td>4.0</td>\n",
       "      <td>1992.0</td>\n",
       "    </tr>\n",
       "    <tr>\n",
       "      <th>1</th>\n",
       "      <td>1.0</td>\n",
       "      <td>4.0</td>\n",
       "      <td>13.0</td>\n",
       "      <td>13.0</td>\n",
       "      <td>1.0</td>\n",
       "      <td>0.0</td>\n",
       "      <td>0.0</td>\n",
       "      <td>2.0</td>\n",
       "      <td>1.0</td>\n",
       "      <td>0.0</td>\n",
       "      <td>...</td>\n",
       "      <td>0</td>\n",
       "      <td>0</td>\n",
       "      <td>0</td>\n",
       "      <td>0</td>\n",
       "      <td>0</td>\n",
       "      <td>0.0</td>\n",
       "      <td>70.0</td>\n",
       "      <td>3.0</td>\n",
       "      <td>2.0</td>\n",
       "      <td>1997.0</td>\n",
       "    </tr>\n",
       "    <tr>\n",
       "      <th>2</th>\n",
       "      <td>1.0</td>\n",
       "      <td>1.0</td>\n",
       "      <td>9.0</td>\n",
       "      <td>7.0</td>\n",
       "      <td>0.0</td>\n",
       "      <td>NaN</td>\n",
       "      <td>0.0</td>\n",
       "      <td>0.0</td>\n",
       "      <td>1.0</td>\n",
       "      <td>0.0</td>\n",
       "      <td>...</td>\n",
       "      <td>0</td>\n",
       "      <td>1</td>\n",
       "      <td>0</td>\n",
       "      <td>0</td>\n",
       "      <td>0</td>\n",
       "      <td>1.0</td>\n",
       "      <td>40.0</td>\n",
       "      <td>1.0</td>\n",
       "      <td>4.0</td>\n",
       "      <td>1995.0</td>\n",
       "    </tr>\n",
       "    <tr>\n",
       "      <th>3</th>\n",
       "      <td>2.0</td>\n",
       "      <td>1.0</td>\n",
       "      <td>6.0</td>\n",
       "      <td>6.0</td>\n",
       "      <td>4.0</td>\n",
       "      <td>0.0</td>\n",
       "      <td>0.0</td>\n",
       "      <td>2.0</td>\n",
       "      <td>4.0</td>\n",
       "      <td>0.0</td>\n",
       "      <td>...</td>\n",
       "      <td>0</td>\n",
       "      <td>1</td>\n",
       "      <td>0</td>\n",
       "      <td>0</td>\n",
       "      <td>0</td>\n",
       "      <td>1.0</td>\n",
       "      <td>40.0</td>\n",
       "      <td>1.0</td>\n",
       "      <td>4.0</td>\n",
       "      <td>1992.0</td>\n",
       "    </tr>\n",
       "    <tr>\n",
       "      <th>4</th>\n",
       "      <td>2.0</td>\n",
       "      <td>1.0</td>\n",
       "      <td>9.0</td>\n",
       "      <td>9.0</td>\n",
       "      <td>53.0</td>\n",
       "      <td>0.0</td>\n",
       "      <td>0.0</td>\n",
       "      <td>1.0</td>\n",
       "      <td>44.0</td>\n",
       "      <td>0.0</td>\n",
       "      <td>...</td>\n",
       "      <td>0</td>\n",
       "      <td>1</td>\n",
       "      <td>0</td>\n",
       "      <td>0</td>\n",
       "      <td>0</td>\n",
       "      <td>0.0</td>\n",
       "      <td>50.0</td>\n",
       "      <td>4.0</td>\n",
       "      <td>1.0</td>\n",
       "      <td>1992.0</td>\n",
       "    </tr>\n",
       "  </tbody>\n",
       "</table>\n",
       "<p>5 rows × 434 columns</p>\n",
       "</div>"
      ],
      "text/plain": [
       "   AGER_TYP  AKT_DAT_KL  ALTER_HH  ALTERSKATEGORIE_FEIN  ANZ_HAUSHALTE_AKTIV  \\\n",
       "0       2.0         1.0       8.0                   8.0                 15.0   \n",
       "1       1.0         4.0      13.0                  13.0                  1.0   \n",
       "2       1.0         1.0       9.0                   7.0                  0.0   \n",
       "3       2.0         1.0       6.0                   6.0                  4.0   \n",
       "4       2.0         1.0       9.0                   9.0                 53.0   \n",
       "\n",
       "   ANZ_HH_TITEL  ANZ_KINDER  ANZ_PERSONEN  ANZ_STATISTISCHE_HAUSHALTE  \\\n",
       "0           0.0         0.0           1.0                        13.0   \n",
       "1           0.0         0.0           2.0                         1.0   \n",
       "2           NaN         0.0           0.0                         1.0   \n",
       "3           0.0         0.0           2.0                         4.0   \n",
       "4           0.0         0.0           1.0                        44.0   \n",
       "\n",
       "   ANZ_TITEL         ...          ZABEOTYP_2  ZABEOTYP_3  ZABEOTYP_4  \\\n",
       "0        0.0         ...                   0           1           0   \n",
       "1        0.0         ...                   0           0           0   \n",
       "2        0.0         ...                   0           1           0   \n",
       "3        0.0         ...                   0           1           0   \n",
       "4        0.0         ...                   0           1           0   \n",
       "\n",
       "   ZABEOTYP_5  ZABEOTYP_6  PRAEGENDE_JUGENDJAHRE_MOVEMENT  \\\n",
       "0           0           0                             0.0   \n",
       "1           0           0                             0.0   \n",
       "2           0           0                             1.0   \n",
       "3           0           0                             1.0   \n",
       "4           0           0                             0.0   \n",
       "\n",
       "   PRAEGENDE_JUGENDJAHRE_DECADE  CAMEO_INTL_2015_WEALTH  \\\n",
       "0                          40.0                     3.0   \n",
       "1                          70.0                     3.0   \n",
       "2                          40.0                     1.0   \n",
       "3                          40.0                     1.0   \n",
       "4                          50.0                     4.0   \n",
       "\n",
       "   CAMEO_INTL_2015_LIFESTAGE  EINGEFUEGT_AM_YEAR  \n",
       "0                        4.0              1992.0  \n",
       "1                        2.0              1997.0  \n",
       "2                        4.0              1995.0  \n",
       "3                        4.0              1992.0  \n",
       "4                        1.0              1992.0  \n",
       "\n",
       "[5 rows x 434 columns]"
      ]
     },
     "execution_count": 71,
     "metadata": {},
     "output_type": "execute_result"
    }
   ],
   "source": [
    "# Creating X_train and Y_train\n",
    "X_train = mailout_train.drop(columns=['RESPONSE', 'LNR'])\n",
    "y_train = mailout_train.RESPONSE\n",
    "\n",
    "X_train.head()"
   ]
  },
  {
   "cell_type": "code",
   "execution_count": 72,
   "metadata": {},
   "outputs": [
    {
     "data": {
      "text/html": [
       "<div>\n",
       "<style scoped>\n",
       "    .dataframe tbody tr th:only-of-type {\n",
       "        vertical-align: middle;\n",
       "    }\n",
       "\n",
       "    .dataframe tbody tr th {\n",
       "        vertical-align: top;\n",
       "    }\n",
       "\n",
       "    .dataframe thead th {\n",
       "        text-align: right;\n",
       "    }\n",
       "</style>\n",
       "<table border=\"1\" class=\"dataframe\">\n",
       "  <thead>\n",
       "    <tr style=\"text-align: right;\">\n",
       "      <th></th>\n",
       "      <th>D19_LETZTER_KAUF_BRANCHE</th>\n",
       "    </tr>\n",
       "  </thead>\n",
       "  <tbody>\n",
       "    <tr>\n",
       "      <th>count</th>\n",
       "      <td>34412</td>\n",
       "    </tr>\n",
       "    <tr>\n",
       "      <th>unique</th>\n",
       "      <td>35</td>\n",
       "    </tr>\n",
       "    <tr>\n",
       "      <th>top</th>\n",
       "      <td>D19_UNBEKANNT</td>\n",
       "    </tr>\n",
       "    <tr>\n",
       "      <th>freq</th>\n",
       "      <td>9986</td>\n",
       "    </tr>\n",
       "  </tbody>\n",
       "</table>\n",
       "</div>"
      ],
      "text/plain": [
       "       D19_LETZTER_KAUF_BRANCHE\n",
       "count                     34412\n",
       "unique                       35\n",
       "top               D19_UNBEKANNT\n",
       "freq                       9986"
      ]
     },
     "execution_count": 72,
     "metadata": {},
     "output_type": "execute_result"
    }
   ],
   "source": [
    "X_train.describe(include=['object'])"
   ]
  },
  {
   "cell_type": "code",
   "execution_count": 73,
   "metadata": {},
   "outputs": [],
   "source": [
    "# There is nothing related to the 'D19_LETZTER_KAUF_BRANCHE' column in the dictionary file, so we drop it (Also some of \n",
    "# its values arleady exist as columns in the dataset)\n",
    "X_train.drop(columns=['D19_LETZTER_KAUF_BRANCHE'], inplace=True)"
   ]
  },
  {
   "cell_type": "code",
   "execution_count": null,
   "metadata": {},
   "outputs": [],
   "source": [
    "# I will use AdaBoost and RandomForest and SGD classifier to train"
   ]
  },
  {
   "cell_type": "markdown",
   "metadata": {},
   "source": [
    "### Random Forest Classifier"
   ]
  },
  {
   "cell_type": "code",
   "execution_count": 116,
   "metadata": {},
   "outputs": [],
   "source": [
    "transformer = Pipeline([\n",
    "    ('imp', Imputer(missing_values=np.nan, strategy='median')),\n",
    "    ('scaler', StandardScaler())\n",
    "])"
   ]
  },
  {
   "cell_type": "code",
   "execution_count": 111,
   "metadata": {},
   "outputs": [],
   "source": [
    "# Let's create a RF Pipeline first\n",
    "pipeline_rf = Pipeline([\n",
    "        ('transf', transformer)\n",
    "        ('clf', RandomForestClassifier())\n",
    "    ])"
   ]
  },
  {
   "cell_type": "code",
   "execution_count": 75,
   "metadata": {},
   "outputs": [
    {
     "data": {
      "text/plain": [
       "{'memory': None,\n",
       " 'steps': [('imp',\n",
       "   Imputer(axis=0, copy=True, missing_values=nan, strategy='median', verbose=0)),\n",
       "  ('scaler', StandardScaler(copy=True, with_mean=True, with_std=True)),\n",
       "  ('clf',\n",
       "   RandomForestClassifier(bootstrap=True, class_weight=None, criterion='gini',\n",
       "               max_depth=None, max_features='auto', max_leaf_nodes=None,\n",
       "               min_impurity_decrease=0.0, min_impurity_split=None,\n",
       "               min_samples_leaf=1, min_samples_split=2,\n",
       "               min_weight_fraction_leaf=0.0, n_estimators=10, n_jobs=1,\n",
       "               oob_score=False, random_state=None, verbose=0,\n",
       "               warm_start=False))],\n",
       " 'imp': Imputer(axis=0, copy=True, missing_values=nan, strategy='median', verbose=0),\n",
       " 'scaler': StandardScaler(copy=True, with_mean=True, with_std=True),\n",
       " 'clf': RandomForestClassifier(bootstrap=True, class_weight=None, criterion='gini',\n",
       "             max_depth=None, max_features='auto', max_leaf_nodes=None,\n",
       "             min_impurity_decrease=0.0, min_impurity_split=None,\n",
       "             min_samples_leaf=1, min_samples_split=2,\n",
       "             min_weight_fraction_leaf=0.0, n_estimators=10, n_jobs=1,\n",
       "             oob_score=False, random_state=None, verbose=0,\n",
       "             warm_start=False),\n",
       " 'imp__axis': 0,\n",
       " 'imp__copy': True,\n",
       " 'imp__missing_values': nan,\n",
       " 'imp__strategy': 'median',\n",
       " 'imp__verbose': 0,\n",
       " 'scaler__copy': True,\n",
       " 'scaler__with_mean': True,\n",
       " 'scaler__with_std': True,\n",
       " 'clf__bootstrap': True,\n",
       " 'clf__class_weight': None,\n",
       " 'clf__criterion': 'gini',\n",
       " 'clf__max_depth': None,\n",
       " 'clf__max_features': 'auto',\n",
       " 'clf__max_leaf_nodes': None,\n",
       " 'clf__min_impurity_decrease': 0.0,\n",
       " 'clf__min_impurity_split': None,\n",
       " 'clf__min_samples_leaf': 1,\n",
       " 'clf__min_samples_split': 2,\n",
       " 'clf__min_weight_fraction_leaf': 0.0,\n",
       " 'clf__n_estimators': 10,\n",
       " 'clf__n_jobs': 1,\n",
       " 'clf__oob_score': False,\n",
       " 'clf__random_state': None,\n",
       " 'clf__verbose': 0,\n",
       " 'clf__warm_start': False}"
      ]
     },
     "execution_count": 75,
     "metadata": {},
     "output_type": "execute_result"
    }
   ],
   "source": [
    "# Parameters to consider\n",
    "pipeline_rf.get_params()"
   ]
  },
  {
   "cell_type": "code",
   "execution_count": 80,
   "metadata": {},
   "outputs": [],
   "source": [
    "parameters_rf = {\n",
    "    'clf__n_estimators': [10,30,50,100],\n",
    "    'clf__min_samples_split': [3,4,7,10],\n",
    "}\n",
    "\n",
    "# Using GridSearch to find the best set of parameters, also considering ROC to evaluate\n",
    "# due to the imbalanced data\n",
    "cv_rf = GridSearchCV(estimator=pipeline_rf,param_grid=parameters_rf, scoring='roc_auc',\n",
    "                     n_jobs=-1, verbose=2)"
   ]
  },
  {
   "cell_type": "code",
   "execution_count": 81,
   "metadata": {},
   "outputs": [
    {
     "name": "stdout",
     "output_type": "stream",
     "text": [
      "Fitting 3 folds for each of 16 candidates, totalling 48 fits\n",
      "[CV] clf__min_samples_split=3, clf__n_estimators=10 ..................\n",
      "[CV] clf__min_samples_split=3, clf__n_estimators=10 ..................\n",
      "[CV] clf__min_samples_split=3, clf__n_estimators=10 ..................\n",
      "[CV] clf__min_samples_split=3, clf__n_estimators=30 ..................\n",
      "[CV] ... clf__min_samples_split=3, clf__n_estimators=10, total=   2.8s\n",
      "[CV] clf__min_samples_split=3, clf__n_estimators=30 ..................\n",
      "[CV] ... clf__min_samples_split=3, clf__n_estimators=10, total=   3.1s\n",
      "[CV] clf__min_samples_split=3, clf__n_estimators=30 ..................\n",
      "[CV] ... clf__min_samples_split=3, clf__n_estimators=10, total=   3.1s\n",
      "[CV] clf__min_samples_split=3, clf__n_estimators=50 ..................\n",
      "[CV] ... clf__min_samples_split=3, clf__n_estimators=30, total=   4.8s\n",
      "[CV] clf__min_samples_split=3, clf__n_estimators=50 ..................\n",
      "[CV] ... clf__min_samples_split=3, clf__n_estimators=30, total=   4.8s\n",
      "[CV] ... clf__min_samples_split=3, clf__n_estimators=30, total=   4.6s\n",
      "[CV] clf__min_samples_split=3, clf__n_estimators=50 ..................\n",
      "[CV] clf__min_samples_split=3, clf__n_estimators=100 .................\n",
      "[CV] ... clf__min_samples_split=3, clf__n_estimators=50, total=   6.4s\n",
      "[CV] clf__min_samples_split=3, clf__n_estimators=100 .................\n",
      "[CV] ... clf__min_samples_split=3, clf__n_estimators=50, total=   6.4s\n",
      "[CV] clf__min_samples_split=3, clf__n_estimators=100 .................\n",
      "[CV] ... clf__min_samples_split=3, clf__n_estimators=50, total=   5.8s\n",
      "[CV] clf__min_samples_split=4, clf__n_estimators=10 ..................\n",
      "[CV] ... clf__min_samples_split=4, clf__n_estimators=10, total=   2.4s\n",
      "[CV] clf__min_samples_split=4, clf__n_estimators=10 ..................\n",
      "[CV] .. clf__min_samples_split=3, clf__n_estimators=100, total=   8.8s\n",
      "[CV] clf__min_samples_split=4, clf__n_estimators=10 ..................\n",
      "[CV] .. clf__min_samples_split=3, clf__n_estimators=100, total=   8.7s\n",
      "[CV] clf__min_samples_split=4, clf__n_estimators=30 ..................\n",
      "[CV] ... clf__min_samples_split=4, clf__n_estimators=10, total=   2.8s\n",
      "[CV] clf__min_samples_split=4, clf__n_estimators=30 ..................\n",
      "[CV] ... clf__min_samples_split=4, clf__n_estimators=10, total=   2.9s\n",
      "[CV] clf__min_samples_split=4, clf__n_estimators=30 ..................\n",
      "[CV] .. clf__min_samples_split=3, clf__n_estimators=100, total=   8.7s\n",
      "[CV] clf__min_samples_split=4, clf__n_estimators=50 ..................\n",
      "[CV] ... clf__min_samples_split=4, clf__n_estimators=30, total=   4.1s\n",
      "[CV] clf__min_samples_split=4, clf__n_estimators=50 ..................\n",
      "[CV] ... clf__min_samples_split=4, clf__n_estimators=30, total=   4.3s\n",
      "[CV] clf__min_samples_split=4, clf__n_estimators=50 ..................\n",
      "[CV] ... clf__min_samples_split=4, clf__n_estimators=30, total=   4.3s\n",
      "[CV] clf__min_samples_split=4, clf__n_estimators=100 .................\n",
      "[CV] ... clf__min_samples_split=4, clf__n_estimators=50, total=   5.9s\n",
      "[CV] clf__min_samples_split=4, clf__n_estimators=100 .................\n",
      "[CV] ... clf__min_samples_split=4, clf__n_estimators=50, total=   5.5s\n",
      "[CV] clf__min_samples_split=4, clf__n_estimators=100 .................\n",
      "[CV] ... clf__min_samples_split=4, clf__n_estimators=50, total=   5.4s\n",
      "[CV] clf__min_samples_split=7, clf__n_estimators=10 ..................\n",
      "[CV] ... clf__min_samples_split=7, clf__n_estimators=10, total=   2.6s\n",
      "[CV] clf__min_samples_split=7, clf__n_estimators=10 ..................\n",
      "[CV] .. clf__min_samples_split=4, clf__n_estimators=100, total=   9.2s\n",
      "[CV] clf__min_samples_split=7, clf__n_estimators=10 ..................\n",
      "[CV] ... clf__min_samples_split=7, clf__n_estimators=10, total=   3.5s\n",
      "[CV] clf__min_samples_split=7, clf__n_estimators=30 ..................\n",
      "[CV] .. clf__min_samples_split=4, clf__n_estimators=100, total=   9.8s\n",
      "[CV] clf__min_samples_split=7, clf__n_estimators=30 ..................\n",
      "[CV] ... clf__min_samples_split=7, clf__n_estimators=10, total=   3.6s\n",
      "[CV] clf__min_samples_split=7, clf__n_estimators=30 ..................\n",
      "[CV] .. clf__min_samples_split=4, clf__n_estimators=100, total=  10.3s\n",
      "[CV] clf__min_samples_split=7, clf__n_estimators=50 ..................\n",
      "[CV] ... clf__min_samples_split=7, clf__n_estimators=30, total=   4.7s\n",
      "[CV] clf__min_samples_split=7, clf__n_estimators=50 ..................\n",
      "[CV] ... clf__min_samples_split=7, clf__n_estimators=30, total=   4.7s\n",
      "[CV] clf__min_samples_split=7, clf__n_estimators=50 ..................\n",
      "[CV] ... clf__min_samples_split=7, clf__n_estimators=30, total=   4.6s\n",
      "[CV] clf__min_samples_split=7, clf__n_estimators=100 .................\n",
      "[CV] ... clf__min_samples_split=7, clf__n_estimators=50, total=   5.9s\n",
      "[CV] clf__min_samples_split=7, clf__n_estimators=100 .................\n",
      "[CV] ... clf__min_samples_split=7, clf__n_estimators=50, total=   5.8s\n",
      "[CV] clf__min_samples_split=7, clf__n_estimators=100 .................\n",
      "[CV] ... clf__min_samples_split=7, clf__n_estimators=50, total=   5.6s\n",
      "[CV] clf__min_samples_split=10, clf__n_estimators=10 .................\n"
     ]
    },
    {
     "name": "stderr",
     "output_type": "stream",
     "text": [
      "[Parallel(n_jobs=-1)]: Done  33 tasks      | elapsed:   52.7s\n"
     ]
    },
    {
     "name": "stdout",
     "output_type": "stream",
     "text": [
      "[CV] .. clf__min_samples_split=10, clf__n_estimators=10, total=   2.6s\n",
      "[CV] clf__min_samples_split=10, clf__n_estimators=10 .................\n",
      "[CV] .. clf__min_samples_split=7, clf__n_estimators=100, total=   9.0s\n",
      "[CV] clf__min_samples_split=10, clf__n_estimators=10 .................\n",
      "[CV] .. clf__min_samples_split=10, clf__n_estimators=10, total=   2.6s\n",
      "[CV] clf__min_samples_split=10, clf__n_estimators=30 .................\n",
      "[CV] .. clf__min_samples_split=10, clf__n_estimators=10, total=   2.7s\n",
      "[CV] clf__min_samples_split=10, clf__n_estimators=30 .................\n",
      "[CV] .. clf__min_samples_split=7, clf__n_estimators=100, total=   9.1s\n",
      "[CV] clf__min_samples_split=10, clf__n_estimators=30 .................\n",
      "[CV] .. clf__min_samples_split=7, clf__n_estimators=100, total=   9.4s\n",
      "[CV] clf__min_samples_split=10, clf__n_estimators=50 .................\n",
      "[CV] .. clf__min_samples_split=10, clf__n_estimators=30, total=   4.6s\n",
      "[CV] clf__min_samples_split=10, clf__n_estimators=50 .................\n",
      "[CV] .. clf__min_samples_split=10, clf__n_estimators=30, total=   4.4s\n",
      "[CV] clf__min_samples_split=10, clf__n_estimators=50 .................\n",
      "[CV] .. clf__min_samples_split=10, clf__n_estimators=30, total=   4.4s\n",
      "[CV] clf__min_samples_split=10, clf__n_estimators=100 ................\n",
      "[CV] .. clf__min_samples_split=10, clf__n_estimators=50, total=   5.8s\n",
      "[CV] clf__min_samples_split=10, clf__n_estimators=100 ................\n",
      "[CV] .. clf__min_samples_split=10, clf__n_estimators=50, total=   5.7s\n",
      "[CV] clf__min_samples_split=10, clf__n_estimators=100 ................\n",
      "[CV] .. clf__min_samples_split=10, clf__n_estimators=50, total=   5.6s\n",
      "[CV] . clf__min_samples_split=10, clf__n_estimators=100, total=   8.1s\n",
      "[CV] . clf__min_samples_split=10, clf__n_estimators=100, total=   7.9s\n",
      "[CV] . clf__min_samples_split=10, clf__n_estimators=100, total=   7.5s\n"
     ]
    },
    {
     "name": "stderr",
     "output_type": "stream",
     "text": [
      "[Parallel(n_jobs=-1)]: Done  48 out of  48 | elapsed:  1.3min finished\n"
     ]
    },
    {
     "name": "stdout",
     "output_type": "stream",
     "text": [
      "done in 88.765s\n"
     ]
    }
   ],
   "source": [
    "# Training Random Forest algorithm\n",
    "t0 = time()\n",
    "cv_rf.fit(X_train,y_train)\n",
    "print(\"done in %0.3fs\" % (time() - t0))"
   ]
  },
  {
   "cell_type": "code",
   "execution_count": 82,
   "metadata": {},
   "outputs": [
    {
     "name": "stdout",
     "output_type": "stream",
     "text": [
      "\n",
      "Best Score:  0.6371316457523607\n",
      "\n",
      "Best Parameters:  {'clf__min_samples_split': 10, 'clf__n_estimators': 100}\n",
      "\n",
      "Best Estimator:  Pipeline(memory=None,\n",
      "     steps=[('imp', Imputer(axis=0, copy=True, missing_values=nan, strategy='median', verbose=0)), ('scaler', StandardScaler(copy=True, with_mean=True, with_std=True)), ('clf', RandomForestClassifier(bootstrap=True, class_weight=None, criterion='gini',\n",
      "            max_depth=None, max_features='auto', max...n_jobs=1,\n",
      "            oob_score=False, random_state=None, verbose=0,\n",
      "            warm_start=False))])\n"
     ]
    },
    {
     "data": {
      "text/plain": [
       "2"
      ]
     },
     "execution_count": 82,
     "metadata": {},
     "output_type": "execute_result"
    }
   ],
   "source": [
    "print(\"\\nBest Score: \", cv_rf.best_score_)\n",
    "print(\"\\nBest Parameters: \", cv_rf.best_params_)\n",
    "print(\"\\nBest Estimator: \", cv_rf.best_estimator_)"
   ]
  },
  {
   "cell_type": "markdown",
   "metadata": {},
   "source": [
    "### AdaBoost Classifier"
   ]
  },
  {
   "cell_type": "code",
   "execution_count": 83,
   "metadata": {},
   "outputs": [],
   "source": [
    "# Building pipeline for AdaBoost\n",
    "pipeline_ada= Pipeline([\n",
    "        ('transf', transformer),\n",
    "        ('clf', AdaBoostClassifier(base_estimator=DecisionTreeClassifier()))\n",
    "    ])\n"
   ]
  },
  {
   "cell_type": "code",
   "execution_count": 84,
   "metadata": {},
   "outputs": [
    {
     "data": {
      "text/plain": [
       "<bound method Pipeline.get_params of Pipeline(memory=None,\n",
       "     steps=[('imp', Imputer(axis=0, copy=True, missing_values=nan, strategy='median', verbose=0)), ('scaler', StandardScaler(copy=True, with_mean=True, with_std=True)), ('clf', AdaBoostClassifier(algorithm='SAMME.R',\n",
       "          base_estimator=DecisionTreeClassifier(class_weight=None, criterion='gini', max...ne,\n",
       "            splitter='best'),\n",
       "          learning_rate=1.0, n_estimators=50, random_state=None))])>"
      ]
     },
     "execution_count": 84,
     "metadata": {},
     "output_type": "execute_result"
    }
   ],
   "source": [
    "pipeline_ada.get_params"
   ]
  },
  {
   "cell_type": "code",
   "execution_count": 88,
   "metadata": {},
   "outputs": [],
   "source": [
    "parameters_ada = {\n",
    "    'clf__base_estimator__max_depth': [1,3,5,7],\n",
    "    'clf__n_estimators': [50,70,100],\n",
    "    'clf__random_state': [42],\n",
    "    'clf__learning_rate': [0.01, 0.001]\n",
    "}\n",
    "cv_ada = GridSearchCV(estimator=pipeline_ada,param_grid=parameters_ada, scoring='roc_auc', \n",
    "                      n_jobs=-1, verbose=2)"
   ]
  },
  {
   "cell_type": "code",
   "execution_count": 89,
   "metadata": {},
   "outputs": [
    {
     "name": "stdout",
     "output_type": "stream",
     "text": [
      "Fitting 3 folds for each of 24 candidates, totalling 72 fits\n",
      "[CV] clf__base_estimator__max_depth=1, clf__learning_rate=0.01, clf__n_estimators=50, clf__random_state=42 \n",
      "[CV] clf__base_estimator__max_depth=1, clf__learning_rate=0.01, clf__n_estimators=50, clf__random_state=42 \n",
      "[CV] clf__base_estimator__max_depth=1, clf__learning_rate=0.01, clf__n_estimators=50, clf__random_state=42 \n",
      "[CV] clf__base_estimator__max_depth=1, clf__learning_rate=0.01, clf__n_estimators=70, clf__random_state=42 \n",
      "[CV]  clf__base_estimator__max_depth=1, clf__learning_rate=0.01, clf__n_estimators=50, clf__random_state=42, total=  12.3s\n",
      "[CV]  clf__base_estimator__max_depth=1, clf__learning_rate=0.01, clf__n_estimators=50, clf__random_state=42, total=  12.5s\n",
      "[CV] clf__base_estimator__max_depth=1, clf__learning_rate=0.01, clf__n_estimators=70, clf__random_state=42 \n",
      "[CV] clf__base_estimator__max_depth=1, clf__learning_rate=0.01, clf__n_estimators=70, clf__random_state=42 \n",
      "[CV]  clf__base_estimator__max_depth=1, clf__learning_rate=0.01, clf__n_estimators=50, clf__random_state=42, total=  12.5s\n",
      "[CV] clf__base_estimator__max_depth=1, clf__learning_rate=0.01, clf__n_estimators=100, clf__random_state=42 \n",
      "[CV]  clf__base_estimator__max_depth=1, clf__learning_rate=0.01, clf__n_estimators=70, clf__random_state=42, total=  16.4s\n",
      "[CV] clf__base_estimator__max_depth=1, clf__learning_rate=0.01, clf__n_estimators=100, clf__random_state=42 \n",
      "[CV]  clf__base_estimator__max_depth=1, clf__learning_rate=0.01, clf__n_estimators=70, clf__random_state=42, total=  13.9s\n",
      "[CV] clf__base_estimator__max_depth=1, clf__learning_rate=0.01, clf__n_estimators=100, clf__random_state=42 \n",
      "[CV]  clf__base_estimator__max_depth=1, clf__learning_rate=0.01, clf__n_estimators=70, clf__random_state=42, total=  13.9s\n",
      "[CV] clf__base_estimator__max_depth=1, clf__learning_rate=0.001, clf__n_estimators=50, clf__random_state=42 \n",
      "[CV]  clf__base_estimator__max_depth=1, clf__learning_rate=0.01, clf__n_estimators=100, clf__random_state=42, total=  18.8s\n",
      "[CV] clf__base_estimator__max_depth=1, clf__learning_rate=0.001, clf__n_estimators=50, clf__random_state=42 \n",
      "[CV]  clf__base_estimator__max_depth=1, clf__learning_rate=0.01, clf__n_estimators=100, clf__random_state=42, total=  18.5s\n",
      "[CV] clf__base_estimator__max_depth=1, clf__learning_rate=0.001, clf__n_estimators=50, clf__random_state=42 \n",
      "[CV]  clf__base_estimator__max_depth=1, clf__learning_rate=0.001, clf__n_estimators=50, clf__random_state=42, total=  10.0s\n",
      "[CV] clf__base_estimator__max_depth=1, clf__learning_rate=0.001, clf__n_estimators=70, clf__random_state=42 \n",
      "[CV]  clf__base_estimator__max_depth=1, clf__learning_rate=0.001, clf__n_estimators=50, clf__random_state=42, total=   9.5s\n",
      "[CV] clf__base_estimator__max_depth=1, clf__learning_rate=0.001, clf__n_estimators=70, clf__random_state=42 \n",
      "[CV]  clf__base_estimator__max_depth=1, clf__learning_rate=0.01, clf__n_estimators=100, clf__random_state=42, total=  17.9s\n",
      "[CV] clf__base_estimator__max_depth=1, clf__learning_rate=0.001, clf__n_estimators=70, clf__random_state=42 \n",
      "[CV]  clf__base_estimator__max_depth=1, clf__learning_rate=0.001, clf__n_estimators=50, clf__random_state=42, total=   9.5s\n",
      "[CV] clf__base_estimator__max_depth=1, clf__learning_rate=0.001, clf__n_estimators=100, clf__random_state=42 \n",
      "[CV]  clf__base_estimator__max_depth=1, clf__learning_rate=0.001, clf__n_estimators=70, clf__random_state=42, total=  13.7s\n",
      "[CV] clf__base_estimator__max_depth=1, clf__learning_rate=0.001, clf__n_estimators=100, clf__random_state=42 \n",
      "[CV]  clf__base_estimator__max_depth=1, clf__learning_rate=0.001, clf__n_estimators=70, clf__random_state=42, total=  12.7s\n",
      "[CV] clf__base_estimator__max_depth=1, clf__learning_rate=0.001, clf__n_estimators=100, clf__random_state=42 \n",
      "[CV]  clf__base_estimator__max_depth=1, clf__learning_rate=0.001, clf__n_estimators=70, clf__random_state=42, total=  12.5s\n",
      "[CV] clf__base_estimator__max_depth=3, clf__learning_rate=0.01, clf__n_estimators=50, clf__random_state=42 \n",
      "[CV]  clf__base_estimator__max_depth=1, clf__learning_rate=0.001, clf__n_estimators=100, clf__random_state=42, total=  16.8s\n",
      "[CV] clf__base_estimator__max_depth=3, clf__learning_rate=0.01, clf__n_estimators=50, clf__random_state=42 \n",
      "[CV]  clf__base_estimator__max_depth=1, clf__learning_rate=0.001, clf__n_estimators=100, clf__random_state=42, total=  16.5s\n",
      "[CV] clf__base_estimator__max_depth=3, clf__learning_rate=0.01, clf__n_estimators=50, clf__random_state=42 \n",
      "[CV]  clf__base_estimator__max_depth=1, clf__learning_rate=0.001, clf__n_estimators=100, clf__random_state=42, total=  16.7s\n",
      "[CV] clf__base_estimator__max_depth=3, clf__learning_rate=0.01, clf__n_estimators=70, clf__random_state=42 \n",
      "[CV]  clf__base_estimator__max_depth=3, clf__learning_rate=0.01, clf__n_estimators=50, clf__random_state=42, total=  23.0s\n",
      "[CV] clf__base_estimator__max_depth=3, clf__learning_rate=0.01, clf__n_estimators=70, clf__random_state=42 \n",
      "[CV]  clf__base_estimator__max_depth=3, clf__learning_rate=0.01, clf__n_estimators=50, clf__random_state=42, total=  22.9s\n",
      "[CV] clf__base_estimator__max_depth=3, clf__learning_rate=0.01, clf__n_estimators=70, clf__random_state=42 \n",
      "[CV]  clf__base_estimator__max_depth=3, clf__learning_rate=0.01, clf__n_estimators=50, clf__random_state=42, total=  23.1s\n",
      "[CV] clf__base_estimator__max_depth=3, clf__learning_rate=0.01, clf__n_estimators=100, clf__random_state=42 \n",
      "[CV]  clf__base_estimator__max_depth=3, clf__learning_rate=0.01, clf__n_estimators=70, clf__random_state=42, total=  31.0s\n",
      "[CV] clf__base_estimator__max_depth=3, clf__learning_rate=0.01, clf__n_estimators=100, clf__random_state=42 \n",
      "[CV]  clf__base_estimator__max_depth=3, clf__learning_rate=0.01, clf__n_estimators=70, clf__random_state=42, total=  31.4s\n",
      "[CV] clf__base_estimator__max_depth=3, clf__learning_rate=0.01, clf__n_estimators=100, clf__random_state=42 \n",
      "[CV]  clf__base_estimator__max_depth=3, clf__learning_rate=0.01, clf__n_estimators=70, clf__random_state=42, total=  31.2s\n",
      "[CV] clf__base_estimator__max_depth=3, clf__learning_rate=0.001, clf__n_estimators=50, clf__random_state=42 \n",
      "[CV]  clf__base_estimator__max_depth=3, clf__learning_rate=0.01, clf__n_estimators=100, clf__random_state=42, total=  43.5s\n",
      "[CV] clf__base_estimator__max_depth=3, clf__learning_rate=0.001, clf__n_estimators=50, clf__random_state=42 \n",
      "[CV]  clf__base_estimator__max_depth=3, clf__learning_rate=0.001, clf__n_estimators=50, clf__random_state=42, total=  22.2s\n",
      "[CV] clf__base_estimator__max_depth=3, clf__learning_rate=0.001, clf__n_estimators=50, clf__random_state=42 \n",
      "[CV]  clf__base_estimator__max_depth=3, clf__learning_rate=0.01, clf__n_estimators=100, clf__random_state=42, total=  43.5s\n",
      "[CV] clf__base_estimator__max_depth=3, clf__learning_rate=0.001, clf__n_estimators=70, clf__random_state=42 \n",
      "[CV]  clf__base_estimator__max_depth=3, clf__learning_rate=0.01, clf__n_estimators=100, clf__random_state=42, total=  43.0s\n",
      "[CV] clf__base_estimator__max_depth=3, clf__learning_rate=0.001, clf__n_estimators=70, clf__random_state=42 \n",
      "[CV]  clf__base_estimator__max_depth=3, clf__learning_rate=0.001, clf__n_estimators=50, clf__random_state=42, total=  22.6s\n",
      "[CV] clf__base_estimator__max_depth=3, clf__learning_rate=0.001, clf__n_estimators=70, clf__random_state=42 \n",
      "[CV]  clf__base_estimator__max_depth=3, clf__learning_rate=0.001, clf__n_estimators=50, clf__random_state=42, total=  22.6s\n",
      "[CV] clf__base_estimator__max_depth=3, clf__learning_rate=0.001, clf__n_estimators=100, clf__random_state=42 \n",
      "[CV]  clf__base_estimator__max_depth=3, clf__learning_rate=0.001, clf__n_estimators=70, clf__random_state=42, total=  31.1s\n",
      "[CV] clf__base_estimator__max_depth=3, clf__learning_rate=0.001, clf__n_estimators=100, clf__random_state=42 \n",
      "[CV]  clf__base_estimator__max_depth=3, clf__learning_rate=0.001, clf__n_estimators=70, clf__random_state=42, total=  31.1s\n",
      "[CV] clf__base_estimator__max_depth=3, clf__learning_rate=0.001, clf__n_estimators=100, clf__random_state=42 \n",
      "[CV]  clf__base_estimator__max_depth=3, clf__learning_rate=0.001, clf__n_estimators=70, clf__random_state=42, total=  31.2s\n",
      "[CV] clf__base_estimator__max_depth=5, clf__learning_rate=0.01, clf__n_estimators=50, clf__random_state=42 \n"
     ]
    },
    {
     "name": "stderr",
     "output_type": "stream",
     "text": [
      "[Parallel(n_jobs=-1)]: Done  33 tasks      | elapsed:  3.3min\n"
     ]
    },
    {
     "name": "stdout",
     "output_type": "stream",
     "text": [
      "[CV]  clf__base_estimator__max_depth=3, clf__learning_rate=0.001, clf__n_estimators=100, clf__random_state=42, total=  43.2s\n",
      "[CV] clf__base_estimator__max_depth=5, clf__learning_rate=0.01, clf__n_estimators=50, clf__random_state=42 \n",
      "[CV]  clf__base_estimator__max_depth=3, clf__learning_rate=0.001, clf__n_estimators=100, clf__random_state=42, total=  43.4s\n",
      "[CV] clf__base_estimator__max_depth=5, clf__learning_rate=0.01, clf__n_estimators=50, clf__random_state=42 \n",
      "[CV]  clf__base_estimator__max_depth=5, clf__learning_rate=0.01, clf__n_estimators=50, clf__random_state=42, total=  37.3s\n",
      "[CV] clf__base_estimator__max_depth=5, clf__learning_rate=0.01, clf__n_estimators=70, clf__random_state=42 \n",
      "[CV]  clf__base_estimator__max_depth=3, clf__learning_rate=0.001, clf__n_estimators=100, clf__random_state=42, total=  43.8s\n",
      "[CV] clf__base_estimator__max_depth=5, clf__learning_rate=0.01, clf__n_estimators=70, clf__random_state=42 \n",
      "[CV]  clf__base_estimator__max_depth=5, clf__learning_rate=0.01, clf__n_estimators=50, clf__random_state=42, total=  37.7s\n",
      "[CV] clf__base_estimator__max_depth=5, clf__learning_rate=0.01, clf__n_estimators=70, clf__random_state=42 \n",
      "[CV]  clf__base_estimator__max_depth=5, clf__learning_rate=0.01, clf__n_estimators=50, clf__random_state=42, total=  38.1s\n",
      "[CV] clf__base_estimator__max_depth=5, clf__learning_rate=0.01, clf__n_estimators=100, clf__random_state=42 \n",
      "[CV]  clf__base_estimator__max_depth=5, clf__learning_rate=0.01, clf__n_estimators=70, clf__random_state=42, total=  52.1s\n",
      "[CV] clf__base_estimator__max_depth=5, clf__learning_rate=0.01, clf__n_estimators=100, clf__random_state=42 \n",
      "[CV]  clf__base_estimator__max_depth=5, clf__learning_rate=0.01, clf__n_estimators=70, clf__random_state=42, total=  52.1s\n",
      "[CV] clf__base_estimator__max_depth=5, clf__learning_rate=0.01, clf__n_estimators=100, clf__random_state=42 \n",
      "[CV]  clf__base_estimator__max_depth=5, clf__learning_rate=0.01, clf__n_estimators=70, clf__random_state=42, total=  51.3s\n",
      "[CV] clf__base_estimator__max_depth=5, clf__learning_rate=0.001, clf__n_estimators=50, clf__random_state=42 \n",
      "[CV]  clf__base_estimator__max_depth=5, clf__learning_rate=0.01, clf__n_estimators=100, clf__random_state=42, total= 1.1min\n",
      "[CV] clf__base_estimator__max_depth=5, clf__learning_rate=0.001, clf__n_estimators=50, clf__random_state=42 \n",
      "[CV]  clf__base_estimator__max_depth=5, clf__learning_rate=0.001, clf__n_estimators=50, clf__random_state=42, total=  34.3s\n",
      "[CV] clf__base_estimator__max_depth=5, clf__learning_rate=0.001, clf__n_estimators=50, clf__random_state=42 \n",
      "[CV]  clf__base_estimator__max_depth=5, clf__learning_rate=0.01, clf__n_estimators=100, clf__random_state=42, total= 1.1min\n",
      "[CV] clf__base_estimator__max_depth=5, clf__learning_rate=0.001, clf__n_estimators=70, clf__random_state=42 \n",
      "[CV]  clf__base_estimator__max_depth=5, clf__learning_rate=0.01, clf__n_estimators=100, clf__random_state=42, total= 1.1min\n",
      "[CV] clf__base_estimator__max_depth=5, clf__learning_rate=0.001, clf__n_estimators=70, clf__random_state=42 \n",
      "[CV]  clf__base_estimator__max_depth=5, clf__learning_rate=0.001, clf__n_estimators=50, clf__random_state=42, total=  34.4s\n",
      "[CV] clf__base_estimator__max_depth=5, clf__learning_rate=0.001, clf__n_estimators=70, clf__random_state=42 \n",
      "[CV]  clf__base_estimator__max_depth=5, clf__learning_rate=0.001, clf__n_estimators=50, clf__random_state=42, total=  34.5s\n",
      "[CV] clf__base_estimator__max_depth=5, clf__learning_rate=0.001, clf__n_estimators=100, clf__random_state=42 \n",
      "[CV]  clf__base_estimator__max_depth=5, clf__learning_rate=0.001, clf__n_estimators=70, clf__random_state=42, total=  47.4s\n",
      "[CV] clf__base_estimator__max_depth=5, clf__learning_rate=0.001, clf__n_estimators=100, clf__random_state=42 \n",
      "[CV]  clf__base_estimator__max_depth=5, clf__learning_rate=0.001, clf__n_estimators=70, clf__random_state=42, total=  47.0s\n",
      "[CV] clf__base_estimator__max_depth=5, clf__learning_rate=0.001, clf__n_estimators=100, clf__random_state=42 \n",
      "[CV]  clf__base_estimator__max_depth=5, clf__learning_rate=0.001, clf__n_estimators=70, clf__random_state=42, total=  47.6s\n",
      "[CV] clf__base_estimator__max_depth=7, clf__learning_rate=0.01, clf__n_estimators=50, clf__random_state=42 \n",
      "[CV]  clf__base_estimator__max_depth=5, clf__learning_rate=0.001, clf__n_estimators=100, clf__random_state=42, total= 1.1min\n",
      "[CV] clf__base_estimator__max_depth=7, clf__learning_rate=0.01, clf__n_estimators=50, clf__random_state=42 \n",
      "[CV]  clf__base_estimator__max_depth=7, clf__learning_rate=0.01, clf__n_estimators=50, clf__random_state=42, total=  48.8s\n",
      "[CV] clf__base_estimator__max_depth=7, clf__learning_rate=0.01, clf__n_estimators=50, clf__random_state=42 \n",
      "[CV]  clf__base_estimator__max_depth=5, clf__learning_rate=0.001, clf__n_estimators=100, clf__random_state=42, total= 1.1min\n",
      "[CV] clf__base_estimator__max_depth=7, clf__learning_rate=0.01, clf__n_estimators=70, clf__random_state=42 \n",
      "[CV]  clf__base_estimator__max_depth=5, clf__learning_rate=0.001, clf__n_estimators=100, clf__random_state=42, total= 1.1min\n",
      "[CV] clf__base_estimator__max_depth=7, clf__learning_rate=0.01, clf__n_estimators=70, clf__random_state=42 \n",
      "[CV]  clf__base_estimator__max_depth=7, clf__learning_rate=0.01, clf__n_estimators=50, clf__random_state=42, total=  50.2s\n",
      "[CV] clf__base_estimator__max_depth=7, clf__learning_rate=0.01, clf__n_estimators=70, clf__random_state=42 \n",
      "[CV]  clf__base_estimator__max_depth=7, clf__learning_rate=0.01, clf__n_estimators=50, clf__random_state=42, total=  49.4s\n",
      "[CV] clf__base_estimator__max_depth=7, clf__learning_rate=0.01, clf__n_estimators=100, clf__random_state=42 \n",
      "[CV]  clf__base_estimator__max_depth=7, clf__learning_rate=0.01, clf__n_estimators=70, clf__random_state=42, total= 1.1min\n",
      "[CV] clf__base_estimator__max_depth=7, clf__learning_rate=0.01, clf__n_estimators=100, clf__random_state=42 \n",
      "[CV]  clf__base_estimator__max_depth=7, clf__learning_rate=0.01, clf__n_estimators=70, clf__random_state=42, total= 1.1min\n",
      "[CV] clf__base_estimator__max_depth=7, clf__learning_rate=0.01, clf__n_estimators=100, clf__random_state=42 \n",
      "[CV]  clf__base_estimator__max_depth=7, clf__learning_rate=0.01, clf__n_estimators=70, clf__random_state=42, total= 1.1min\n",
      "[CV] clf__base_estimator__max_depth=7, clf__learning_rate=0.001, clf__n_estimators=50, clf__random_state=42 \n",
      "[CV]  clf__base_estimator__max_depth=7, clf__learning_rate=0.001, clf__n_estimators=50, clf__random_state=42, total=  50.4s\n",
      "[CV] clf__base_estimator__max_depth=7, clf__learning_rate=0.001, clf__n_estimators=50, clf__random_state=42 \n",
      "[CV]  clf__base_estimator__max_depth=7, clf__learning_rate=0.01, clf__n_estimators=100, clf__random_state=42, total= 1.7min\n",
      "[CV] clf__base_estimator__max_depth=7, clf__learning_rate=0.001, clf__n_estimators=50, clf__random_state=42 \n",
      "[CV]  clf__base_estimator__max_depth=7, clf__learning_rate=0.01, clf__n_estimators=100, clf__random_state=42, total= 1.7min\n",
      "[CV] clf__base_estimator__max_depth=7, clf__learning_rate=0.001, clf__n_estimators=70, clf__random_state=42 \n",
      "[CV]  clf__base_estimator__max_depth=7, clf__learning_rate=0.01, clf__n_estimators=100, clf__random_state=42, total= 1.7min\n",
      "[CV] clf__base_estimator__max_depth=7, clf__learning_rate=0.001, clf__n_estimators=70, clf__random_state=42 \n",
      "[CV]  clf__base_estimator__max_depth=7, clf__learning_rate=0.001, clf__n_estimators=50, clf__random_state=42, total=  53.0s\n",
      "[CV] clf__base_estimator__max_depth=7, clf__learning_rate=0.001, clf__n_estimators=70, clf__random_state=42 \n",
      "[CV]  clf__base_estimator__max_depth=7, clf__learning_rate=0.001, clf__n_estimators=50, clf__random_state=42, total=  52.3s\n",
      "[CV] clf__base_estimator__max_depth=7, clf__learning_rate=0.001, clf__n_estimators=100, clf__random_state=42 \n",
      "[CV]  clf__base_estimator__max_depth=7, clf__learning_rate=0.001, clf__n_estimators=70, clf__random_state=42, total= 1.2min\n",
      "[CV] clf__base_estimator__max_depth=7, clf__learning_rate=0.001, clf__n_estimators=100, clf__random_state=42 \n",
      "[CV]  clf__base_estimator__max_depth=7, clf__learning_rate=0.001, clf__n_estimators=70, clf__random_state=42, total= 1.2min\n",
      "[CV] clf__base_estimator__max_depth=7, clf__learning_rate=0.001, clf__n_estimators=100, clf__random_state=42 \n",
      "[CV]  clf__base_estimator__max_depth=7, clf__learning_rate=0.001, clf__n_estimators=70, clf__random_state=42, total= 1.2min\n"
     ]
    },
    {
     "name": "stdout",
     "output_type": "stream",
     "text": [
      "[CV]  clf__base_estimator__max_depth=7, clf__learning_rate=0.001, clf__n_estimators=100, clf__random_state=42, total= 1.7min\n",
      "[CV]  clf__base_estimator__max_depth=7, clf__learning_rate=0.001, clf__n_estimators=100, clf__random_state=42, total= 1.7min\n",
      "[CV]  clf__base_estimator__max_depth=7, clf__learning_rate=0.001, clf__n_estimators=100, clf__random_state=42, total= 1.6min\n"
     ]
    },
    {
     "name": "stderr",
     "output_type": "stream",
     "text": [
      "[Parallel(n_jobs=-1)]: Done  72 out of  72 | elapsed: 13.7min finished\n"
     ]
    },
    {
     "name": "stdout",
     "output_type": "stream",
     "text": [
      "done in 918.798s\n"
     ]
    }
   ],
   "source": [
    "# Training AdaBoost\n",
    "t0 = time()\n",
    "cv_ada.fit(X_train,y_train)\n",
    "print(\"done in %0.3fs\" % (time() - t0))"
   ]
  },
  {
   "cell_type": "code",
   "execution_count": 91,
   "metadata": {},
   "outputs": [
    {
     "name": "stdout",
     "output_type": "stream",
     "text": [
      "\n",
      "Best Score:  0.7728198328124221\n",
      "\n",
      "Best Parameters:  {'clf__base_estimator__max_depth': 7, 'clf__learning_rate': 0.01, 'clf__n_estimators': 70, 'clf__random_state': 42}\n",
      "\n",
      "Best Estimator:  Pipeline(memory=None,\n",
      "     steps=[('imp', Imputer(axis=0, copy=True, missing_values=nan, strategy='median', verbose=0)), ('scaler', StandardScaler(copy=True, with_mean=True, with_std=True)), ('clf', AdaBoostClassifier(algorithm='SAMME.R',\n",
      "          base_estimator=DecisionTreeClassifier(class_weight=None, criterion='gini', max...one,\n",
      "            splitter='best'),\n",
      "          learning_rate=0.01, n_estimators=70, random_state=42))])\n"
     ]
    }
   ],
   "source": [
    "print(\"\\nBest Score: \", cv_ada.best_score_)\n",
    "print(\"\\nBest Parameters: \", cv_ada.best_params_)\n",
    "print(\"\\nBest Estimator: \", cv_ada.best_estimator_)"
   ]
  },
  {
   "cell_type": "markdown",
   "metadata": {},
   "source": [
    "### SGM Classifier"
   ]
  },
  {
   "cell_type": "code",
   "execution_count": 92,
   "metadata": {},
   "outputs": [],
   "source": [
    "# Building pipeline for SGD\n",
    "pipeline_sgd= Pipeline([\n",
    "    ('transf', transformer),\n",
    "    ('clf', SGDClassifier())\n",
    "    ])"
   ]
  },
  {
   "cell_type": "code",
   "execution_count": 93,
   "metadata": {},
   "outputs": [
    {
     "data": {
      "text/plain": [
       "<bound method Pipeline.get_params of Pipeline(memory=None,\n",
       "     steps=[('imp', Imputer(axis=0, copy=True, missing_values=nan, strategy='median', verbose=0)), ('scaler', StandardScaler(copy=True, with_mean=True, with_std=True)), ('clf', SGDClassifier(alpha=0.0001, average=False, class_weight=None, epsilon=0.1,\n",
       "       eta0=0.0, fit_intercept=True, l1_ratio=0.15,\n",
       "       learning_rate='optimal', loss='hinge', max_iter=None, n_iter=None,\n",
       "       n_jobs=1, penalty='l2', power_t=0.5, random_state=None,\n",
       "       shuffle=True, tol=None, verbose=0, warm_start=False))])>"
      ]
     },
     "execution_count": 93,
     "metadata": {},
     "output_type": "execute_result"
    }
   ],
   "source": [
    "pipeline_sgd.get_params"
   ]
  },
  {
   "cell_type": "code",
   "execution_count": 103,
   "metadata": {},
   "outputs": [],
   "source": [
    "parameters_sgd = {\n",
    "    'clf__loss': ['hinge','perceptron', 'squared_hinge'],\n",
    "    'clf__penalty': ['l1'],\n",
    "    'clf__max_iter': [1500],\n",
    "    'clf__tol': [None]\n",
    "}\n",
    "cv_sgd = GridSearchCV(estimator=pipeline_sgd,param_grid=parameters_sgd, scoring='roc_auc', \n",
    "                      n_jobs=-1, verbose=2)"
   ]
  },
  {
   "cell_type": "code",
   "execution_count": 104,
   "metadata": {},
   "outputs": [
    {
     "name": "stdout",
     "output_type": "stream",
     "text": [
      "Fitting 3 folds for each of 6 candidates, totalling 18 fits\n",
      "[CV] clf__loss=hinge, clf__max_iter=1500, clf__penalty=l1, clf__tol=None \n",
      "[CV] clf__loss=hinge, clf__max_iter=1500, clf__penalty=l1, clf__tol=None \n",
      "[CV] clf__loss=hinge, clf__max_iter=1500, clf__penalty=l1, clf__tol=None \n",
      "[CV] clf__loss=hinge, clf__max_iter=1500, clf__penalty=l1, clf__tol=0.001 \n",
      "[CV]  clf__loss=hinge, clf__max_iter=1500, clf__penalty=l1, clf__tol=0.001, total=  23.1s\n",
      "[CV] clf__loss=hinge, clf__max_iter=1500, clf__penalty=l1, clf__tol=0.001 \n",
      "[CV]  clf__loss=hinge, clf__max_iter=1500, clf__penalty=l1, clf__tol=0.001, total=  21.0s\n",
      "[CV] clf__loss=hinge, clf__max_iter=1500, clf__penalty=l1, clf__tol=0.001 \n",
      "[CV]  clf__loss=hinge, clf__max_iter=1500, clf__penalty=l1, clf__tol=0.001, total=  23.0s\n",
      "[CV] clf__loss=perceptron, clf__max_iter=1500, clf__penalty=l1, clf__tol=None \n",
      "[CV]  clf__loss=hinge, clf__max_iter=1500, clf__penalty=l1, clf__tol=None, total= 1.3min\n",
      "[CV] clf__loss=perceptron, clf__max_iter=1500, clf__penalty=l1, clf__tol=None \n",
      "[CV]  clf__loss=hinge, clf__max_iter=1500, clf__penalty=l1, clf__tol=None, total= 1.3min\n",
      "[CV]  clf__loss=hinge, clf__max_iter=1500, clf__penalty=l1, clf__tol=None, total= 1.3min\n",
      "[CV] clf__loss=perceptron, clf__max_iter=1500, clf__penalty=l1, clf__tol=None \n",
      "[CV] clf__loss=perceptron, clf__max_iter=1500, clf__penalty=l1, clf__tol=0.001 \n",
      "[CV]  clf__loss=perceptron, clf__max_iter=1500, clf__penalty=l1, clf__tol=0.001, total=  22.8s\n",
      "[CV] clf__loss=perceptron, clf__max_iter=1500, clf__penalty=l1, clf__tol=0.001 \n",
      "[CV]  clf__loss=perceptron, clf__max_iter=1500, clf__penalty=l1, clf__tol=0.001, total=  21.6s\n",
      "[CV] clf__loss=perceptron, clf__max_iter=1500, clf__penalty=l1, clf__tol=0.001 \n",
      "[CV]  clf__loss=perceptron, clf__max_iter=1500, clf__penalty=l1, clf__tol=0.001, total=  23.0s\n",
      "[CV] clf__loss=squared_hinge, clf__max_iter=1500, clf__penalty=l1, clf__tol=None \n",
      "[CV]  clf__loss=perceptron, clf__max_iter=1500, clf__penalty=l1, clf__tol=None, total= 1.4min\n",
      "[CV] clf__loss=squared_hinge, clf__max_iter=1500, clf__penalty=l1, clf__tol=None \n",
      "[CV]  clf__loss=perceptron, clf__max_iter=1500, clf__penalty=l1, clf__tol=None, total= 1.3min\n",
      "[CV] clf__loss=squared_hinge, clf__max_iter=1500, clf__penalty=l1, clf__tol=None \n",
      "[CV]  clf__loss=perceptron, clf__max_iter=1500, clf__penalty=l1, clf__tol=None, total= 1.3min\n",
      "[CV] clf__loss=squared_hinge, clf__max_iter=1500, clf__penalty=l1, clf__tol=0.001 \n",
      "[CV]  clf__loss=squared_hinge, clf__max_iter=1500, clf__penalty=l1, clf__tol=None, total= 1.3min\n",
      "[CV] clf__loss=squared_hinge, clf__max_iter=1500, clf__penalty=l1, clf__tol=0.001 \n",
      "[CV]  clf__loss=squared_hinge, clf__max_iter=1500, clf__penalty=l1, clf__tol=None, total= 1.4min\n",
      "[CV] clf__loss=squared_hinge, clf__max_iter=1500, clf__penalty=l1, clf__tol=0.001 \n"
     ]
    },
    {
     "name": "stderr",
     "output_type": "stream",
     "text": [
      "/anaconda3/lib/python3.6/site-packages/sklearn/linear_model/stochastic_gradient.py:451: ConvergenceWarning: Maximum number of iteration reached before convergence. Consider increasing max_iter to improve the fit.\n",
      "  ConvergenceWarning)\n"
     ]
    },
    {
     "name": "stdout",
     "output_type": "stream",
     "text": [
      "[CV]  clf__loss=squared_hinge, clf__max_iter=1500, clf__penalty=l1, clf__tol=0.001, total= 1.4min\n",
      "[CV]  clf__loss=squared_hinge, clf__max_iter=1500, clf__penalty=l1, clf__tol=None, total= 1.4min\n",
      "[CV]  clf__loss=squared_hinge, clf__max_iter=1500, clf__penalty=l1, clf__tol=0.001, total=  22.5s\n",
      "[CV]  clf__loss=squared_hinge, clf__max_iter=1500, clf__penalty=l1, clf__tol=0.001, total=  36.9s\n"
     ]
    },
    {
     "name": "stderr",
     "output_type": "stream",
     "text": [
      "[Parallel(n_jobs=-1)]: Done  18 out of  18 | elapsed:  4.5min finished\n"
     ]
    },
    {
     "name": "stdout",
     "output_type": "stream",
     "text": [
      "done in 366.025s\n"
     ]
    }
   ],
   "source": [
    "# Training SGD\n",
    "t0 = time()\n",
    "cv_sgd.fit(X_train,y_train)\n",
    "print(\"done in %0.3fs\" % (time() - t0))"
   ]
  },
  {
   "cell_type": "code",
   "execution_count": 105,
   "metadata": {},
   "outputs": [
    {
     "name": "stdout",
     "output_type": "stream",
     "text": [
      "\n",
      "Best Score:  0.705273802129917\n",
      "\n",
      "Best Parameters:  {'clf__loss': 'hinge', 'clf__max_iter': 1500, 'clf__penalty': 'l1', 'clf__tol': None}\n",
      "\n",
      "Best Estimator:  Pipeline(memory=None,\n",
      "     steps=[('imp', Imputer(axis=0, copy=True, missing_values=nan, strategy='median', verbose=0)), ('scaler', StandardScaler(copy=True, with_mean=True, with_std=True)), ('clf', SGDClassifier(alpha=0.0001, average=False, class_weight=None, epsilon=0.1,\n",
      "       eta0=0.0, fit_intercept=True, l1_ratio=0.15,\n",
      "       learning_rate='optimal', loss='hinge', max_iter=1500, n_iter=None,\n",
      "       n_jobs=1, penalty='l1', power_t=0.5, random_state=None,\n",
      "       shuffle=True, tol=None, verbose=0, warm_start=False))])\n"
     ]
    }
   ],
   "source": [
    "print(\"\\nBest Score: \", cv_sgd.best_score_)\n",
    "print(\"\\nBest Parameters: \", cv_sgd.best_params_)\n",
    "print(\"\\nBest Estimator: \", cv_sgd.best_estimator_)"
   ]
  },
  {
   "cell_type": "code",
   "execution_count": 110,
   "metadata": {},
   "outputs": [],
   "source": [
    "# Saving all the three models\n",
    "u.save_model(cv_rf.best_estimator_, 'rf')\n",
    "u.save_model(cv_ada.best_estimator_, 'ada')\n",
    "u.save_model(cv_sgd.best_estimator_, 'sgd')"
   ]
  },
  {
   "cell_type": "code",
   "execution_count": null,
   "metadata": {},
   "outputs": [],
   "source": []
  }
 ],
 "metadata": {
  "kernelspec": {
   "display_name": "Python [default]",
   "language": "python",
   "name": "python3"
  },
  "language_info": {
   "codemirror_mode": {
    "name": "ipython",
    "version": 3
   },
   "file_extension": ".py",
   "mimetype": "text/x-python",
   "name": "python",
   "nbconvert_exporter": "python",
   "pygments_lexer": "ipython3",
   "version": "3.6.8"
  }
 },
 "nbformat": 4,
 "nbformat_minor": 2
}
