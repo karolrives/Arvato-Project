{
 "cells": [
  {
   "cell_type": "markdown",
   "metadata": {},
   "source": [
    "## Part 2: Supervised Learning Model\n",
    "\n",
    "Now that you've found which parts of the population are more likely to be customers of the mail-order company, it's time to build a prediction model. Each of the rows in the \"MAILOUT\" data files represents an individual that was targeted for a mailout campaign. Ideally, we should be able to use the demographic information from each individual to decide whether or not it will be worth it to include that person in the campaign.\n",
    "\n",
    "The \"MAILOUT\" data has been split into two approximately equal parts, each with almost 43 000 data rows. In this part, you can verify your model with the \"TRAIN\" partition, which includes a column, \"RESPONSE\", that states whether or not a person became a customer of the company following the campaign. In the next part, you'll need to create predictions on the \"TEST\" partition, where the \"RESPONSE\" column has been withheld."
   ]
  },
  {
   "cell_type": "code",
   "execution_count": 1,
   "metadata": {},
   "outputs": [],
   "source": [
    "# import libraries here; add more as necessary\n",
    "import numpy as np\n",
    "import pandas as pd\n",
    "import matplotlib.pyplot as plt\n",
    "import seaborn as sns\n",
    "import pickle\n",
    "import utils as u"
   ]
  },
  {
   "cell_type": "code",
   "execution_count": 2,
   "metadata": {},
   "outputs": [
    {
     "name": "stderr",
     "output_type": "stream",
     "text": [
      "/anaconda3/lib/python3.6/site-packages/IPython/core/interactiveshell.py:2785: DtypeWarning: Columns (19,20) have mixed types. Specify dtype option on import or set low_memory=False.\n",
      "  interactivity=interactivity, compiler=compiler, result=result)\n"
     ]
    }
   ],
   "source": [
    "mailout_train = pd.read_csv('Udacity_MAILOUT_052018_TRAIN.csv', sep=';')\n",
    "mailout_train.drop(columns='Unnamed: 0', inplace=True)"
   ]
  },
  {
   "cell_type": "code",
   "execution_count": 3,
   "metadata": {},
   "outputs": [],
   "source": [
    "# Also the attribute file will come in handy for handling missing or unknown values\n",
    "dictionary = pd.read_excel('DIAS Attributes - Values 2017_revised.xlsx', sheet_name='Tabelle1')\n",
    "dictionary.drop(columns='Unnamed: 0', inplace=True)"
   ]
  },
  {
   "cell_type": "code",
   "execution_count": 4,
   "metadata": {},
   "outputs": [
    {
     "name": "stdout",
     "output_type": "stream",
     "text": [
      "ALTER_KIND4       0.999046\n",
      "ALTER_KIND3       0.995950\n",
      "ALTER_KIND2       0.982403\n",
      "ALTER_KIND1       0.953727\n",
      "KK_KUNDENTYP      0.589265\n",
      "EXTSEL992         0.371212\n",
      "HH_DELTA_FLAG     0.225269\n",
      "W_KEIT_KIND_HH    0.225269\n",
      "KBA05_KW2         0.201294\n",
      "MOBI_REGIO        0.201294\n",
      "KBA05_KW3         0.201294\n",
      "KBA05_MAXAH       0.201294\n",
      "KBA05_MAXBJ       0.201294\n",
      "KBA05_MAXHERST    0.201294\n",
      "KBA05_MOTRAD      0.201294\n",
      "KBA05_MAXVORB     0.201294\n",
      "KBA05_MOD1        0.201294\n",
      "KBA05_MOD2        0.201294\n",
      "KBA05_MOD3        0.201294\n",
      "KBA05_MOD4        0.201294\n",
      "KBA05_MOD8        0.201294\n",
      "KBA05_MOTOR       0.201294\n",
      "KBA05_KW1         0.201294\n",
      "KBA05_MAXSEG      0.201294\n",
      "KBA05_ZUL2        0.201294\n",
      "KBA05_SEG1        0.201294\n",
      "KBA05_SEG7        0.201294\n",
      "KBA05_ZUL1        0.201294\n",
      "KBA05_VORB2       0.201294\n",
      "KBA05_VORB1       0.201294\n",
      "dtype: float64\n"
     ]
    }
   ],
   "source": [
    "column_dist = mailout_train.isnull().sum()\n",
    "column_dist.sort_values(ascending=False, inplace=True)\n",
    "outlier_columns = column_dist.index[:8]\n",
    "print(column_dist[:30]/mailout_train.shape[0])"
   ]
  },
  {
   "cell_type": "code",
   "execution_count": 5,
   "metadata": {},
   "outputs": [
    {
     "data": {
      "text/plain": [
       "{'multi': ['LP_FAMILIE_FEIN',\n",
       "  'LP_FAMILIE_GROB',\n",
       "  'LP_STATUS_FEIN',\n",
       "  'LP_STATUS_GROB',\n",
       "  'NATIONALITAET_KZ',\n",
       "  'SHOPPER_TYP',\n",
       "  'TITEL_KZ',\n",
       "  'VERS_TYP',\n",
       "  'CJT_GESAMTTYP',\n",
       "  'CAMEO_DEUG_2015',\n",
       "  'FINANZTYP',\n",
       "  'GEBAEUDETYP',\n",
       "  'GFK_URLAUBERTYP',\n",
       "  'ZABEOTYP'],\n",
       " 'binary': ['OST_WEST_KZ', 'ANREDE_KZ', 'GREEN_AVANTGARDE']}"
      ]
     },
     "execution_count": 5,
     "metadata": {},
     "output_type": "execute_result"
    }
   ],
   "source": [
    "cat_col = u.obtain_categorical_columns(mailout_train)\n",
    "cat_col"
   ]
  },
  {
   "cell_type": "code",
   "execution_count": 6,
   "metadata": {},
   "outputs": [
    {
     "name": "stdout",
     "output_type": "stream",
     "text": [
      "Shape of the attribute file: (2258, 4)\n",
      "Missing values in the array: 11\n",
      "After filling NaNs with False: \n",
      "False    2025\n",
      "True      233\n",
      "Name: Meaning, dtype: int64\n"
     ]
    }
   ],
   "source": [
    "unknown_dict = u.create_unknown_dictionary(dictionary)"
   ]
  },
  {
   "cell_type": "code",
   "execution_count": 7,
   "metadata": {},
   "outputs": [],
   "source": [
    "mailout_train = u.clean_mailout(mailout_train, unknown_dict, outlier_columns, cat_col)"
   ]
  },
  {
   "cell_type": "code",
   "execution_count": 8,
   "metadata": {},
   "outputs": [
    {
     "data": {
      "text/html": [
       "<div>\n",
       "<style scoped>\n",
       "    .dataframe tbody tr th:only-of-type {\n",
       "        vertical-align: middle;\n",
       "    }\n",
       "\n",
       "    .dataframe tbody tr th {\n",
       "        vertical-align: top;\n",
       "    }\n",
       "\n",
       "    .dataframe thead th {\n",
       "        text-align: right;\n",
       "    }\n",
       "</style>\n",
       "<table border=\"1\" class=\"dataframe\">\n",
       "  <thead>\n",
       "    <tr style=\"text-align: right;\">\n",
       "      <th></th>\n",
       "      <th>LNR</th>\n",
       "      <th>AGER_TYP</th>\n",
       "      <th>AKT_DAT_KL</th>\n",
       "      <th>ALTER_HH</th>\n",
       "      <th>ALTERSKATEGORIE_FEIN</th>\n",
       "      <th>ANZ_HAUSHALTE_AKTIV</th>\n",
       "      <th>ANZ_HH_TITEL</th>\n",
       "      <th>ANZ_KINDER</th>\n",
       "      <th>ANZ_PERSONEN</th>\n",
       "      <th>ANZ_STATISTISCHE_HAUSHALTE</th>\n",
       "      <th>...</th>\n",
       "      <th>ZABEOTYP_2</th>\n",
       "      <th>ZABEOTYP_3</th>\n",
       "      <th>ZABEOTYP_4</th>\n",
       "      <th>ZABEOTYP_5</th>\n",
       "      <th>ZABEOTYP_6</th>\n",
       "      <th>PRAEGENDE_JUGENDJAHRE_MOVEMENT</th>\n",
       "      <th>PRAEGENDE_JUGENDJAHRE_DECADE</th>\n",
       "      <th>CAMEO_INTL_2015_WEALTH</th>\n",
       "      <th>CAMEO_INTL_2015_LIFESTAGE</th>\n",
       "      <th>EINGEFUEGT_AM_YEAR</th>\n",
       "    </tr>\n",
       "  </thead>\n",
       "  <tbody>\n",
       "    <tr>\n",
       "      <th>0</th>\n",
       "      <td>1763</td>\n",
       "      <td>2.0</td>\n",
       "      <td>1.0</td>\n",
       "      <td>8.0</td>\n",
       "      <td>8.0</td>\n",
       "      <td>15.0</td>\n",
       "      <td>0.0</td>\n",
       "      <td>0.0</td>\n",
       "      <td>1.0</td>\n",
       "      <td>13.0</td>\n",
       "      <td>...</td>\n",
       "      <td>0</td>\n",
       "      <td>1</td>\n",
       "      <td>0</td>\n",
       "      <td>0</td>\n",
       "      <td>0</td>\n",
       "      <td>0.0</td>\n",
       "      <td>40.0</td>\n",
       "      <td>3.0</td>\n",
       "      <td>4.0</td>\n",
       "      <td>1992.0</td>\n",
       "    </tr>\n",
       "    <tr>\n",
       "      <th>1</th>\n",
       "      <td>1771</td>\n",
       "      <td>1.0</td>\n",
       "      <td>4.0</td>\n",
       "      <td>13.0</td>\n",
       "      <td>13.0</td>\n",
       "      <td>1.0</td>\n",
       "      <td>0.0</td>\n",
       "      <td>0.0</td>\n",
       "      <td>2.0</td>\n",
       "      <td>1.0</td>\n",
       "      <td>...</td>\n",
       "      <td>0</td>\n",
       "      <td>0</td>\n",
       "      <td>0</td>\n",
       "      <td>0</td>\n",
       "      <td>0</td>\n",
       "      <td>0.0</td>\n",
       "      <td>70.0</td>\n",
       "      <td>3.0</td>\n",
       "      <td>2.0</td>\n",
       "      <td>1997.0</td>\n",
       "    </tr>\n",
       "    <tr>\n",
       "      <th>2</th>\n",
       "      <td>1776</td>\n",
       "      <td>1.0</td>\n",
       "      <td>1.0</td>\n",
       "      <td>9.0</td>\n",
       "      <td>7.0</td>\n",
       "      <td>0.0</td>\n",
       "      <td>NaN</td>\n",
       "      <td>0.0</td>\n",
       "      <td>0.0</td>\n",
       "      <td>1.0</td>\n",
       "      <td>...</td>\n",
       "      <td>0</td>\n",
       "      <td>1</td>\n",
       "      <td>0</td>\n",
       "      <td>0</td>\n",
       "      <td>0</td>\n",
       "      <td>1.0</td>\n",
       "      <td>40.0</td>\n",
       "      <td>1.0</td>\n",
       "      <td>4.0</td>\n",
       "      <td>1995.0</td>\n",
       "    </tr>\n",
       "    <tr>\n",
       "      <th>3</th>\n",
       "      <td>1460</td>\n",
       "      <td>2.0</td>\n",
       "      <td>1.0</td>\n",
       "      <td>6.0</td>\n",
       "      <td>6.0</td>\n",
       "      <td>4.0</td>\n",
       "      <td>0.0</td>\n",
       "      <td>0.0</td>\n",
       "      <td>2.0</td>\n",
       "      <td>4.0</td>\n",
       "      <td>...</td>\n",
       "      <td>0</td>\n",
       "      <td>1</td>\n",
       "      <td>0</td>\n",
       "      <td>0</td>\n",
       "      <td>0</td>\n",
       "      <td>1.0</td>\n",
       "      <td>40.0</td>\n",
       "      <td>1.0</td>\n",
       "      <td>4.0</td>\n",
       "      <td>1992.0</td>\n",
       "    </tr>\n",
       "    <tr>\n",
       "      <th>4</th>\n",
       "      <td>1783</td>\n",
       "      <td>2.0</td>\n",
       "      <td>1.0</td>\n",
       "      <td>9.0</td>\n",
       "      <td>9.0</td>\n",
       "      <td>53.0</td>\n",
       "      <td>0.0</td>\n",
       "      <td>0.0</td>\n",
       "      <td>1.0</td>\n",
       "      <td>44.0</td>\n",
       "      <td>...</td>\n",
       "      <td>0</td>\n",
       "      <td>1</td>\n",
       "      <td>0</td>\n",
       "      <td>0</td>\n",
       "      <td>0</td>\n",
       "      <td>0.0</td>\n",
       "      <td>50.0</td>\n",
       "      <td>4.0</td>\n",
       "      <td>1.0</td>\n",
       "      <td>1992.0</td>\n",
       "    </tr>\n",
       "  </tbody>\n",
       "</table>\n",
       "<p>5 rows × 436 columns</p>\n",
       "</div>"
      ],
      "text/plain": [
       "    LNR  AGER_TYP  AKT_DAT_KL  ALTER_HH  ALTERSKATEGORIE_FEIN  \\\n",
       "0  1763       2.0         1.0       8.0                   8.0   \n",
       "1  1771       1.0         4.0      13.0                  13.0   \n",
       "2  1776       1.0         1.0       9.0                   7.0   \n",
       "3  1460       2.0         1.0       6.0                   6.0   \n",
       "4  1783       2.0         1.0       9.0                   9.0   \n",
       "\n",
       "   ANZ_HAUSHALTE_AKTIV  ANZ_HH_TITEL  ANZ_KINDER  ANZ_PERSONEN  \\\n",
       "0                 15.0           0.0         0.0           1.0   \n",
       "1                  1.0           0.0         0.0           2.0   \n",
       "2                  0.0           NaN         0.0           0.0   \n",
       "3                  4.0           0.0         0.0           2.0   \n",
       "4                 53.0           0.0         0.0           1.0   \n",
       "\n",
       "   ANZ_STATISTISCHE_HAUSHALTE         ...          ZABEOTYP_2  ZABEOTYP_3  \\\n",
       "0                        13.0         ...                   0           1   \n",
       "1                         1.0         ...                   0           0   \n",
       "2                         1.0         ...                   0           1   \n",
       "3                         4.0         ...                   0           1   \n",
       "4                        44.0         ...                   0           1   \n",
       "\n",
       "   ZABEOTYP_4  ZABEOTYP_5  ZABEOTYP_6  PRAEGENDE_JUGENDJAHRE_MOVEMENT  \\\n",
       "0           0           0           0                             0.0   \n",
       "1           0           0           0                             0.0   \n",
       "2           0           0           0                             1.0   \n",
       "3           0           0           0                             1.0   \n",
       "4           0           0           0                             0.0   \n",
       "\n",
       "   PRAEGENDE_JUGENDJAHRE_DECADE  CAMEO_INTL_2015_WEALTH  \\\n",
       "0                          40.0                     3.0   \n",
       "1                          70.0                     3.0   \n",
       "2                          40.0                     1.0   \n",
       "3                          40.0                     1.0   \n",
       "4                          50.0                     4.0   \n",
       "\n",
       "   CAMEO_INTL_2015_LIFESTAGE  EINGEFUEGT_AM_YEAR  \n",
       "0                        4.0              1992.0  \n",
       "1                        2.0              1997.0  \n",
       "2                        4.0              1995.0  \n",
       "3                        4.0              1992.0  \n",
       "4                        1.0              1992.0  \n",
       "\n",
       "[5 rows x 436 columns]"
      ]
     },
     "execution_count": 8,
     "metadata": {},
     "output_type": "execute_result"
    }
   ],
   "source": [
    "mailout_train.head()"
   ]
  },
  {
   "cell_type": "code",
   "execution_count": 9,
   "metadata": {},
   "outputs": [
    {
     "name": "stdout",
     "output_type": "stream",
     "text": [
      "Maximum threshold for missing values: 109.0\n",
      "(35000,) (7962,)\n"
     ]
    }
   ],
   "source": [
    "rows_dist = mailout_train.isnull().sum(axis=1)\n",
    "n_columns = mailout_train.shape[1]\n",
    "max_na = n_columns * 0.25\n",
    "print('Maximum threshold for missing values: {}'.format(max_na))\n",
    "# Lets divide the data into 2 subsets based on the number of missing values in each row, in\n",
    "# this case we can use max_na as a threshold\n",
    "\n",
    "na_rows_low = rows_dist[rows_dist < max_na]\n",
    "na_rows_high = rows_dist[rows_dist >= max_na]\n",
    "\n",
    "print(na_rows_low.shape, na_rows_high.shape)"
   ]
  },
  {
   "cell_type": "code",
   "execution_count": 10,
   "metadata": {},
   "outputs": [
    {
     "data": {
      "image/png": "[encoded data removed]",
      "text/plain": [
       "<Figure size 432x288 with 1 Axes>"
      ]
     },
     "metadata": {
      "needs_background": "light"
     },
     "output_type": "display_data"
    }
   ],
   "source": [
    "plt.hist(rows_dist);"
   ]
  },
  {
   "cell_type": "code",
   "execution_count": 15,
   "metadata": {},
   "outputs": [
    {
     "data": {
      "text/plain": [
       "435"
      ]
     },
     "execution_count": 15,
     "metadata": {},
     "output_type": "execute_result"
    }
   ],
   "source": [
    "mailout_train['RESPONSE'][mailout_train.index.isin(na_rows_high.index)].sum()\n",
    "mailout_train['RESPONSE'][mailout_train.index.isin(na_rows_low.index)].sum()"
   ]
  },
  {
   "cell_type": "code",
   "execution_count": null,
   "metadata": {},
   "outputs": [],
   "source": []
  }
 ],
 "metadata": {
  "kernelspec": {
   "display_name": "Python [default]",
   "language": "python",
   "name": "python3"
  },
  "language_info": {
   "codemirror_mode": {
    "name": "ipython",
    "version": 3
   },
   "file_extension": ".py",
   "mimetype": "text/x-python",
   "name": "python",
   "nbconvert_exporter": "python",
   "pygments_lexer": "ipython3",
   "version": "3.6.8"
  }
 },
 "nbformat": 4,
 "nbformat_minor": 2
}
